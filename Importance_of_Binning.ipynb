{
 "cells": [
  {
   "cell_type": "code",
   "execution_count": 1,
   "id": "entertaining-salem",
   "metadata": {},
   "outputs": [
    {
     "name": "stdout",
     "output_type": "stream",
     "text": [
      "Using matplotlib backend: agg\n"
     ]
    }
   ],
   "source": [
    "%matplotlib\n",
    "import matplotlib.pyplot as plt\n",
    "import numpy as np\n",
    "# generate some random data\n",
    "data = np.random.random(10000)"
   ]
  },
  {
   "cell_type": "code",
   "execution_count": 2,
   "id": "activated-identification",
   "metadata": {},
   "outputs": [],
   "source": [
    "from IPython.display import display, clear_output\n",
    "import ipywidgets as widgets\n",
    "from IPython.display import display\n",
    "button = widgets.Button(description=\"Draw Histograms!\")\n",
    "output = widgets.Output()"
   ]
  },
  {
   "cell_type": "code",
   "execution_count": 3,
   "id": "earned-lloyd",
   "metadata": {},
   "outputs": [
    {
     "data": {
      "application/vnd.jupyter.widget-view+json": {
       "model_id": "1eab187b8b744769b0f185bde6b31672",
       "version_major": 2,
       "version_minor": 0
      },
      "text/plain": [
       "Button(description='Draw Histograms!', style=ButtonStyle())"
      ]
     },
     "metadata": {},
     "output_type": "display_data"
    },
    {
     "data": {
      "application/vnd.jupyter.widget-view+json": {
       "model_id": "49da91a580d846c9879187a42427f6f7",
       "version_major": 2,
       "version_minor": 0
      },
      "text/plain": [
       "Output()"
      ]
     },
     "metadata": {},
     "output_type": "display_data"
    }
   ],
   "source": [
    "fig, ax = plt.subplots()\n",
    "\n",
    "def draw_histogram(b, nbins=10):\n",
    "    with output:\n",
    "        ax.clear()\n",
    "        clear_output(wait=True)\n",
    "        bin_edges = np.concatenate([[0.0],np.random.random(nbins-2),[1.0]])\n",
    "        bin_edges.sort()\n",
    "        ax.hist(data, nbins)\n",
    "        ax.hist(data, bin_edges, alpha=0.5)\n",
    "        ax.set_ylim((0, 5000))\n",
    "        display(fig)\n",
    "\n",
    "button.on_click(draw_histogram)\n",
    "\n",
    "display(button, output)\n",
    "\n",
    "with output:\n",
    "    draw_histogram(button)"
   ]
  },
  {
   "cell_type": "code",
   "execution_count": null,
   "id": "eleven-semester",
   "metadata": {},
   "outputs": [],
   "source": []
  }
 ],
 "metadata": {
  "kernelspec": {
   "display_name": "Python 3",
   "language": "python",
   "name": "python3"
  },
  "language_info": {
   "codemirror_mode": {
    "name": "ipython",
    "version": 3
   },
   "file_extension": ".py",
   "mimetype": "text/x-python",
   "name": "python",
   "nbconvert_exporter": "python",
   "pygments_lexer": "ipython3",
   "version": "3.8.6"
  }
 },
 "nbformat": 4,
 "nbformat_minor": 5
}
